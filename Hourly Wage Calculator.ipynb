{
  "nbformat": 4,
  "nbformat_minor": 0,
  "metadata": {
    "colab": {
      "provenance": [],
      "authorship_tag": "ABX9TyPiCsm0It7+bO74YC5odwXo",
      "include_colab_link": true
    },
    "kernelspec": {
      "name": "python3",
      "display_name": "Python 3"
    },
    "language_info": {
      "name": "python"
    }
  },
  "cells": [
    {
      "cell_type": "markdown",
      "metadata": {
        "id": "view-in-github",
        "colab_type": "text"
      },
      "source": [
        "<a href=\"https://colab.research.google.com/github/andradejacob36/My-projects/blob/main/Hourly%20Wage%20Calculator.ipynb\" target=\"_parent\"><img src=\"https://colab.research.google.com/assets/colab-badge.svg\" alt=\"Open In Colab\"/></a>"
      ]
    },
    {
      "cell_type": "code",
      "execution_count": 1,
      "metadata": {
        "colab": {
          "base_uri": "https://localhost:8080/"
        },
        "id": "y_sXrklX1I8X",
        "outputId": "7f46adb1-2699-4094-f9fe-d9cf762328fb"
      },
      "outputs": [
        {
          "output_type": "stream",
          "name": "stdout",
          "text": [
            "How many hours did you work this week? 46\n",
            "How much do you get paid per hour? 24\n",
            "\n",
            "    Since you worked 46.00 hours this week\n",
            "    and make $24.00 per hour, your gross pay is $1,176.00. \n",
            "    Good work!\n",
            "\n",
            "    You made $1,176.00 this week and owe $85.26 in taxes. \n",
            "    You owe this much in taxes because the income tax rate in California is 7.25%.\n"
          ]
        }
      ],
      "source": [
        "try:\n",
        "    # Ask for user input\n",
        "    hours = float(input('How many hours did you work this week? '))\n",
        "    rate = float(input('How much do you get paid per hour? '))\n",
        "\n",
        "    # Calculate pay\n",
        "    if hours > 40:\n",
        "        regular_pay = rate * 40\n",
        "        overtime_pay = (hours - 40) * (rate * 1.5)\n",
        "        pay = regular_pay + overtime_pay\n",
        "    else:\n",
        "        pay = hours * rate\n",
        "\n",
        "    # Print the gross pay\n",
        "    print('''\n",
        "    Since you worked {:,.2f} hours this week\n",
        "    and make ${:,.2f} per hour, your gross pay is ${:,.2f}. \n",
        "    Good work!'''.format(hours, rate, pay))\n",
        "\n",
        "    # Calculate taxes\n",
        "    taxes = pay * 0.0725\n",
        "\n",
        "    # Print the taxes\n",
        "    print(\"\"\"\n",
        "    You made ${:,.2f} this week and owe ${:,.2f} in taxes. \n",
        "    You owe this much in taxes because the income tax rate in California is 7.25%.\"\"\".format(pay, taxes))\n",
        "\n",
        "except ValueError:\n",
        "    print('Please enter a number. Otherwise the program will not work.')\n"
      ]
    }
  ]
}