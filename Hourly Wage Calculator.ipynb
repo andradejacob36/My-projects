{
  "cells": [
    {
      "cell_type": "markdown",
      "metadata": {
        "id": "view-in-github",
        "colab_type": "text"
      },
      "source": [
        "<a href=\"https://colab.research.google.com/github/andradejacob36/My-projects/blob/main/Hourly%20Wage%20Calculator.ipynb\" target=\"_parent\"><img src=\"https://colab.research.google.com/assets/colab-badge.svg\" alt=\"Open In Colab\"/></a>"
      ]
    },
    {
      "cell_type": "code",
      "source": [
        "#Write your pay program using try and except so that your program handles non-numeric input gracefully\n",
        "# by printing a message and exiting the program. The following shows two executions of the program:\n",
        "\n",
        "try: \n",
        "    sh = float(input(prompt = 'How many hours did you work this week? '))\n",
        "    sr = float(input(prompt = 'How much do you make per hour? '))\n",
        "    fh = float(sh)                             \n",
        "    fr = float(sr)\n",
        "    compensation = fh * fr \n",
        "    print('''\n",
        "    Since you worked {:,.2f} hours this week\n",
        "    and make ${:,.2f} per hour, you made ${:,.2f} this week. \n",
        "    Good work!'''.format(sh,\n",
        "                        sr,\n",
        "                        compensation))\n",
        "\n",
        "except: \n",
        "    print('Please enter a number. Otherwise the program will not work.')\n",
        "    quit()\n",
        "\n",
        "    if fh > 40  : \n",
        "      reg = fr * fh\n",
        "      otp = (fh - 40) * (fr * 0.5)\n",
        "      xp = reg + otp\n",
        "else: \n",
        "    xp = float(sh) * float(sr)\n",
        "    print(\"Pay\", xp)"
      ],
      "metadata": {
        "colab": {
          "base_uri": "https://localhost:8080/"
        },
        "id": "bGMgAN0Fv5vV",
        "outputId": "99331d25-d9d7-441b-9b77-f823d206060e"
      },
      "execution_count": null,
      "outputs": [
        {
          "output_type": "stream",
          "name": "stdout",
          "text": [
            "How many hours did you work this week? 45\n",
            "How much do you make per hour? 24\n",
            "\n",
            "    Since you worked 45.00 hours this week\n",
            "    and make $24.00 per hour, you made $1,080.00 this week. \n",
            "    Good work!\n",
            "Pay 1080.0\n"
          ]
        }
      ]
    }
  ],
  "metadata": {
    "colab": {
      "provenance": [],
      "include_colab_link": true
    },
    "kernelspec": {
      "display_name": "Python 3",
      "name": "python3"
    }
  },
  "nbformat": 4,
  "nbformat_minor": 0
}