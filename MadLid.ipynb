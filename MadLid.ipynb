{
  "nbformat": 4,
  "nbformat_minor": 0,
  "metadata": {
    "colab": {
      "provenance": [],
      "authorship_tag": "ABX9TyMI+WNe6ZgwruUhQw4GcfHQ",
      "include_colab_link": true
    },
    "kernelspec": {
      "name": "python3",
      "display_name": "Python 3"
    },
    "language_info": {
      "name": "python"
    }
  },
  "cells": [
    {
      "cell_type": "markdown",
      "metadata": {
        "id": "view-in-github",
        "colab_type": "text"
      },
      "source": [
        "<a href=\"https://colab.research.google.com/github/andradejacob36/My-projects/blob/main/MadLid.ipynb\" target=\"_parent\"><img src=\"https://colab.research.google.com/assets/colab-badge.svg\" alt=\"Open In Colab\"/></a>"
      ]
    },
    {
      "cell_type": "code",
      "execution_count": null,
      "metadata": {
        "id": "9HunU1tEDW9S"
      },
      "outputs": [],
      "source": [
        "city = input(\"Name a city in the Bay Area: \")\n",
        "\n",
        "#input #2 \n",
        "sport = input(\"Name a popular sport in the Bay Area: \")\n",
        "\n",
        "#input #3\n",
        "day = input(\"Name a day in the week: \")\n",
        "\n",
        "#input #4 \n",
        "city2 = input(\"Name another city in the Bay Area: \")\n",
        "\n",
        "# creating a while loop to make sure the cities are not the same\n",
        "while city2 == city:\n",
        "    city2 = input(\"This is the same city you stated earlier.\\nName a DIFFERENT city in the Bay Area: \")\n",
        "\n",
        "#input #5\n",
        "month = input(\"Name a month in the year: \")\n",
        "\n",
        "#input #6 \n",
        "year = int(input(\"Pick a year between 2023 and 2033: \"))\n",
        "\n",
        "#creating a while loop to make sure years are constrained\n",
        "while year < 2023 or  year > 2033:\n",
        "    year = int(input(f\"Your input of {year} is not valid.\\nPick a year between 2023 and 2033: \"))\n",
        "\n",
        "#input #7 \n",
        "number1 = int(input(\"Pick a number between 1 and 10: \"))\n",
        "\n",
        "# while loop to make sure number was between 1 and 10\n",
        "while number1 < 1 or number1 > 10:\n",
        "    number1= int(input(f\"Your input of {number1} is not valid.\\nPick a number between 1 and 10: \"))\n",
        "\n",
        "#input #8 \n",
        "number2 = int(input(\"Pick another number between 1 and 10. \"))\n",
        "\n",
        "#While loop to make sure the two numbers are not the same \n",
        "while number2 == number1 or number2 < 1 or number2 > 10:\n",
        "    number2 = int(input(\"Choose a number that is DIFFERENT from your previous number\\nAND is between 1 and 10.\\nFollow instructions carefully.\\nPick another number between 1 and 10: \"))\n",
        "\n",
        "#input #9\n",
        "number3 = int(input(\"Pick a number between 10 and 20: \"))\n",
        "\n",
        "#while loop to make sure number is between 10 and 20\n",
        "while number3 <10 or number3 > 20:\n",
        "    number3 = int(input(f\"Your input of {number3} is not valid.\\nPick a number between 10 and 20: \"))\n",
        "\n",
        "#print statement\n",
        "print(f\"\"\"\n",
        "{'*' * 80}\n",
        "The \\x1B[1m{city.capitalize()}\\x1B[0m City Council wants to bring a \n",
        "Women’s National \\x1B[1m{sport.capitalize()}\\x1B[0m Association team to \\x1B[1m{city.capitalize()}\\x1B[0m.\n",
        "\n",
        "On \\x1B[1m{day.capitalize()}\\x1B[0m, the council approved a resolution urging the association \n",
        "to establish a team in \\x1B[1m{city.capitalize()}\\x1B[0m, noting the city already has \n",
        "the existing stadium infrastructure and a passionate fan base needed \n",
        "to foster a successful franchise. \n",
        "\n",
        "A handful of other cities including \\x1B[1m{city2.capitalize()}\\x1B[0m are also attempting to court \n",
        "a franchise. Kathy Englebert, the commissioner, confirmed in \n",
        "\\x1B[1m{month.capitalize()}\\x1B[0m that the league is looking to add \\x1B[1m{number1}\\x1B[0m or \\x1B[1m{number2}\\x1B[0m teams, \n",
        "potentially for the \\x1B[1m{year}\\x1B[0m season. \n",
        "\n",
        "The association has \\x1B[1m{number3}\\x1B[0m teams and hasn’t expanded since the Atlanta Dream joined in 2008. \n",
        "\n",
        "{'*' * 80}\n",
        "\"\"\")"
      ]
    }
  ]
}