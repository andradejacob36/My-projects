{
  "nbformat": 4,
  "nbformat_minor": 0,
  "metadata": {
    "colab": {
      "provenance": [],
      "authorship_tag": "ABX9TyNZHa4KPFk9ondJxn8B6QMe",
      "include_colab_link": true
    },
    "kernelspec": {
      "name": "python3",
      "display_name": "Python 3"
    },
    "language_info": {
      "name": "python"
    }
  },
  "cells": [
    {
      "cell_type": "markdown",
      "metadata": {
        "id": "view-in-github",
        "colab_type": "text"
      },
      "source": [
        "<a href=\"https://colab.research.google.com/github/andradejacob36/My-projects/blob/main/Fair%20Rent%20Split%20For%20Roomates%20Calculator.ipynb\" target=\"_parent\"><img src=\"https://colab.research.google.com/assets/colab-badge.svg\" alt=\"Open In Colab\"/></a>"
      ]
    },
    {
      "cell_type": "code",
      "execution_count": null,
      "metadata": {
        "id": "1GSuGt8J9_MJ"
      },
      "outputs": [],
      "source": [
        "class Roommate:\n",
        "    def __init__(self, name, room_size):\n",
        "        self.name = name\n",
        "        self.room_size = room_size\n",
        "\n",
        "def calculate_rent(roommates, total_rent):\n",
        "    total_room_size = sum([roommate.room_size for roommate in roommates])\n",
        "    for roommate in roommates:\n",
        "        share = (roommate.room_size / total_room_size) * total_rent\n",
        "        print(f\"{roommate.name}'s rent: ${share:.2f}\")\n",
        "\n",
        "def main():\n",
        "    total_rent = float(input(\"Enter the total rent: \"))\n",
        "    num_roommates = int(input(\"Enter the number of roommates: \"))\n",
        "    roommates = []\n",
        "    for i in range(num_roommates):\n",
        "        name = input(f\"Enter the name of roommate {i+1}: \")\n",
        "        room_size = float(input(f\"Enter the size of {name}'s room: \"))\n",
        "        roommates.append(Roommate(name, room_size))\n",
        "    calculate_rent(roommates, total_rent)\n",
        "\n",
        "if __name__ == \"__main__\":\n",
        "    main()"
      ]
    }
  ]
}