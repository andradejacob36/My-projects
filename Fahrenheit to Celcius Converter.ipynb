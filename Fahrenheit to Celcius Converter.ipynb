{
  "nbformat": 4,
  "nbformat_minor": 0,
  "metadata": {
    "colab": {
      "provenance": [],
      "authorship_tag": "ABX9TyNJYA4l6AAre3lzycEX+v2j",
      "include_colab_link": true
    },
    "kernelspec": {
      "name": "python3",
      "display_name": "Python 3"
    },
    "language_info": {
      "name": "python"
    }
  },
  "cells": [
    {
      "cell_type": "markdown",
      "metadata": {
        "id": "view-in-github",
        "colab_type": "text"
      },
      "source": [
        "<a href=\"https://colab.research.google.com/github/andradejacob36/My-projects/blob/main/Fahrenheit%20to%20Celcius%20Converter.ipynb\" target=\"_parent\"><img src=\"https://colab.research.google.com/assets/colab-badge.svg\" alt=\"Open In Colab\"/></a>"
      ]
    },
    {
      "cell_type": "code",
      "execution_count": 1,
      "metadata": {
        "id": "4ikNKU1d5ypB",
        "colab": {
          "base_uri": "https://localhost:8080/"
        },
        "outputId": "9423039c-c53b-4ac5-c3f9-6dec6d197d19"
      },
      "outputs": [
        {
          "output_type": "stream",
          "name": "stdout",
          "text": [
            "Enter Fahrenheit Temperature: 78\n",
            "Converted to Degree Celcius: 25.555555555555557\n"
          ]
        }
      ],
      "source": [
        "inp = input(\"Enter Fahrenheit Temperature:\")\n",
        "try:\n",
        "    fahr= float(inp)\n",
        "    cel=(fahr-32.0)*5.0/9.0\n",
        "    print(\"Converted to Degree Celcius: {}\".format(cel))\n",
        "except: \n",
        "    print(\"Please enter a number\")"
      ]
    }
  ]
}