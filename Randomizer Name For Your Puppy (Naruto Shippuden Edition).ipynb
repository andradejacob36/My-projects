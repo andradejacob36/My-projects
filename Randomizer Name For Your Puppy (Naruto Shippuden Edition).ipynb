{
  "nbformat": 4,
  "nbformat_minor": 0,
  "metadata": {
    "colab": {
      "provenance": [],
      "authorship_tag": "ABX9TyMzVEKyzL9pMBV0BceqXj3q",
      "include_colab_link": true
    },
    "kernelspec": {
      "name": "python3",
      "display_name": "Python 3"
    },
    "language_info": {
      "name": "python"
    }
  },
  "cells": [
    {
      "cell_type": "markdown",
      "metadata": {
        "id": "view-in-github",
        "colab_type": "text"
      },
      "source": [
        "<a href=\"https://colab.research.google.com/github/andradejacob36/My-projects/blob/main/Randomizer%20Name%20For%20Your%20Puppy%20(Naruto%20Shippuden%20Edition).ipynb\" target=\"_parent\"><img src=\"https://colab.research.google.com/assets/colab-badge.svg\" alt=\"Open In Colab\"/></a>"
      ]
    },
    {
      "cell_type": "code",
      "execution_count": null,
      "metadata": {
        "id": "WWh3tNVQMEz3"
      },
      "outputs": [],
      "source": [
        "import random\n",
        "\n",
        "def gendernames():\n",
        "    naruto_girl_names = (\"Hinata\", \"Sakura\", \"Minato\", \"Tenten\", \"Tsunade\",\n",
        "                         \"Temari\",\"Konan\", \"Ino\", \"Kurenai\", \"Kaguya\", \"Mei\",\n",
        "                         \"Kushina\", \"Shizune\",\"Anko\", \"Karin\", \"Chiyo\", \n",
        "                         \"Yugito\", \"Rin\", \"Mito\", \"Karui\")\n",
        "    \n",
        "    naruto_boy_names = (\"Naruto\", \"Sasuke\", \"Itachi\", \"Madara\", \"Kakashi\", \n",
        "                        \"Nagato\", \"Obito\", \"Gaara\", \"Orochimaru\", \"Jiraiya\", \n",
        "                        \"Rock Lee\", \"Hashirama\", \"Kabuto\", \"Hiruzen\", \"Neji\", \n",
        "                        \"Kurenai\", \"Kiba\", \"Konan\", \"Iruka\",  \"Sai\")\n",
        "    \n",
        "    while True:\n",
        "        gender = input(\"Is your puppy a 'boy' or a 'girl'? \").lower()\n",
        "        if gender == \"girl\":\n",
        "            chosen_name = random.choice(naruto_girl_names)\n",
        "            print(\"Why not call your new puppy {}?\".format(chosen_name))\n",
        "            break\n",
        "    \n",
        "        elif gender == \"boy\":\n",
        "            chosen_name = random.choice(naruto_boy_names)\n",
        "            print(\"Why not call your new puppy {}?\".format(chosen_name))\n",
        "            break    \n",
        "        else:\n",
        "            print(\"That's not a recognized gender. Please enter 'boy' or 'girl'.\")\n",
        "\n",
        "# Call the function\n",
        "gendernames()"
      ]
    }
  ]
}