{
  "nbformat": 4,
  "nbformat_minor": 0,
  "metadata": {
    "colab": {
      "provenance": [],
      "authorship_tag": "ABX9TyPFHc4VrZE6qB8cZxdD8qM8",
      "include_colab_link": true
    },
    "kernelspec": {
      "name": "python3",
      "display_name": "Python 3"
    },
    "language_info": {
      "name": "python"
    }
  },
  "cells": [
    {
      "cell_type": "markdown",
      "metadata": {
        "id": "view-in-github",
        "colab_type": "text"
      },
      "source": [
        "<a href=\"https://colab.research.google.com/github/andradejacob36/My-projects/blob/main/Numetic%20grade%20to%20letter%20grade%20converter.ipynb\" target=\"_parent\"><img src=\"https://colab.research.google.com/assets/colab-badge.svg\" alt=\"Open In Colab\"/></a>"
      ]
    },
    {
      "cell_type": "code",
      "execution_count": 1,
      "metadata": {
        "colab": {
          "base_uri": "https://localhost:8080/"
        },
        "id": "lOLXjfpN5Nk4",
        "outputId": "538a182e-c000-4363-f505-c80926d9ff31"
      },
      "outputs": [
        {
          "output_type": "stream",
          "name": "stdout",
          "text": [
            "Please enter a score between 0 and 100. 89\n",
            "\n",
            "        Good job. Since you got a raw score of 89.0 you earned a B!\n"
          ]
        }
      ],
      "source": [
        "try:\n",
        "\n",
        "    score = input(prompt = \"Please enter a score between 0 and 100. \")\n",
        "    score = float(score)\n",
        "    if score > 100 or score < 0:\n",
        "        print(\"\"\"\n",
        "        Your score of {} is not valid. Please enter a score between 0 and 100.\"\"\".format(score))\n",
        "    elif score <= 100 and score >= 90: \n",
        "        print(\"\"\"\n",
        "        Excellent work! Since you got a raw score of {} you got an A!!! Congrats!\"\"\".format(score))\n",
        "    elif score >= 80 and score < 90:\n",
        "        print(\"\"\"\n",
        "        Good job. Since you got a raw score of {} you earned a B!\"\"\".format(score))\n",
        "    elif score >= 70 and score < 80:\n",
        "        print(\"\"\"\n",
        "        You made it by the skin of your teeth. Since you got a raw score of {}\n",
        "        you earned a C.\"\"\".format(score))\n",
        "    elif score >= 60 and score < 70:\n",
        "        print(\"\"\"\n",
        "        Unfortunately, since your raw score is a {} you got a D.\n",
        "        You did not pass this course.\"\"\".format(score))\n",
        "    else:\n",
        "        score >= 0 and score < 60\n",
        "        print(\"\"\"Unfortunately, since your raw score is a {} you got an F.\n",
        "        You did not pass this course.\"\"\".format(score))\n",
        "\n",
        "except:\n",
        "        print(\"\"\"\n",
        "        Your response of \"{}\" is not going to work for this program.\n",
        "        Please enter an appropriate score as a number in digits.\"\"\".format(score))"
      ]
    }
  ]
}