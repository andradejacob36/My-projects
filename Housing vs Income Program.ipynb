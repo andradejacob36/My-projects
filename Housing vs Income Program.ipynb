{
  "nbformat": 4,
  "nbformat_minor": 0,
  "metadata": {
    "colab": {
      "provenance": [],
      "authorship_tag": "ABX9TyMQG3ZYxhRmIbq7bHi8kKKI",
      "include_colab_link": true
    },
    "kernelspec": {
      "name": "python3",
      "display_name": "Python 3"
    },
    "language_info": {
      "name": "python"
    }
  },
  "cells": [
    {
      "cell_type": "markdown",
      "metadata": {
        "id": "view-in-github",
        "colab_type": "text"
      },
      "source": [
        "<a href=\"https://colab.research.google.com/github/andradejacob36/My-projects/blob/main/Housing%20vs%20Income%20Program.ipynb\" target=\"_parent\"><img src=\"https://colab.research.google.com/assets/colab-badge.svg\" alt=\"Open In Colab\"/></a>"
      ]
    },
    {
      "cell_type": "code",
      "execution_count": 1,
      "metadata": {
        "colab": {
          "base_uri": "https://localhost:8080/"
        },
        "id": "vru63Kw8JDQr",
        "outputId": "065a30dc-6055-4d96-beea-2b4e70ab0154"
      },
      "outputs": [
        {
          "name": "stdout",
          "output_type": "stream",
          "text": [
            "Hello, welcome to our Rent Analysis Program!\n",
            "May I know your name? Jacob\n",
            "Nice to meet you, Jacob!\n",
            "How much do you pay each month in rent? 1299\n",
            "\n",
            "    Thank you, Jacob!\n",
            "\n",
            "    We're going to help you figure out how much you need to make to keep\n",
            "    rent 30% or less of your monthly income.\n",
            "    \n",
            "    You currently pay $1,299.00 each month in rent. \n",
            "    \n",
            "Press Enter to continue...\n",
            "Since your rent is $1,299.00, you need to make at least...\n",
            "\n",
            "    a) $27.06 per hour or\n",
            "    b) $1,082.50 per week or\n",
            "    c) $4,330.00 per month or\n",
            "    d) $51,960.00 per year in salary\n",
            "\n",
            "    to keep your rent 30% or less of your income.\n",
            "    \n",
            "Press Enter to continue...\n",
            "\n",
            "    We recommend starting on LinkedIn for your job search!\n",
            "    Thank you for using our program! \n",
            "    Here is a summary of the data you provided.\n",
            "\n",
            "    Name: Jacob\n",
            "    Rent: $1,299.00\n",
            "    \n",
            "Press Enter to continue...\n",
            "Data is collected for purposes of the program, but not stored.\n",
            "Press Enter to exit.\n"
          ]
        }
      ],
      "source": [
        "def get_float_input(prompt):\n",
        "    while True:\n",
        "        try:\n",
        "            return float(input(prompt))\n",
        "        except ValueError:\n",
        "            print(\"Please enter a valid number.\")\n",
        "\n",
        "def housing():\n",
        "    print(\"Hello, welcome to our Rent Analysis Program!\")\n",
        "    name = input(\"May I know your name? \")\n",
        "    print(\"Nice to meet you, {}!\".format(name))\n",
        "\n",
        "    rent = get_float_input(\"How much do you pay each month in rent? \")\n",
        "\n",
        "    print(\"\"\"\n",
        "    Thank you, {}!\n",
        "\n",
        "    We're going to help you figure out how much you need to make to keep\n",
        "    rent 30% or less of your monthly income.\n",
        "    \n",
        "    You currently pay ${:,.2f} each month in rent. \n",
        "    \"\"\".format(name, rent))\n",
        "\n",
        "    input(\"Press Enter to continue...\")\n",
        "\n",
        "    # Defining variables\n",
        "    monthly_income = rent / .3\n",
        "    weekly_income = monthly_income / 4\n",
        "    hourly_income = weekly_income / 40\n",
        "    salary = monthly_income * 12\n",
        "\n",
        "    print(\"\"\"Since your rent is ${:,.2f}, you need to make at least...\n",
        "\n",
        "    a) ${:,.2f} per hour or\n",
        "    b) ${:,.2f} per week or\n",
        "    c) ${:,.2f} per month or\n",
        "    d) ${:,.2f} per year in salary\n",
        "\n",
        "    to keep your rent 30% or less of your income.\n",
        "    \"\"\".format(rent, hourly_income, weekly_income, monthly_income, salary)) \n",
        "\n",
        "    input(\"Press Enter to continue...\")\n",
        "\n",
        "    print(\"\"\"\n",
        "    We recommend starting on LinkedIn for your job search!\n",
        "    Thank you for using our program! \n",
        "    Here is a summary of the data you provided.\n",
        "\n",
        "    Name: {}\n",
        "    Rent: ${:,.2f}\n",
        "    \"\"\".format(name, rent)) \n",
        "\n",
        "    input(\"Press Enter to continue...\")\n",
        "\n",
        "    print(\"\"\"Data is collected for purposes of the program, but not stored.\"\"\")\n",
        "    input(\"Press Enter to exit.\")\n",
        "\n",
        "# Call the function to start the program\n",
        "housing()\n"
      ]
    }
  ]
}